{
 "cells": [
  {
   "cell_type": "markdown",
   "id": "2ae04f83",
   "metadata": {},
   "source": [
    "# Data Science Tools & Ecosystem"
   ]
  },
  {
   "cell_type": "markdown",
   "id": "872d4a3e",
   "metadata": {},
   "source": [
    "### In this notebook, Data Science Tools and Ecosystem are summarized."
   ]
  },
  {
   "cell_type": "markdown",
   "id": "60e3abf3",
   "metadata": {},
   "source": [
    "#### Some of the popular languages that Data Scientists use are:\n",
    "- Python\n",
    "- R\n",
    "- SQL\n",
    "- Julia\n"
   ]
  },
  {
   "cell_type": "markdown",
   "id": "130f739c",
   "metadata": {},
   "source": [
    "#### Some of the commonly used libraries used by Data Scientists include:\n",
    "\n",
    "##### Associated with Python \n",
    "- Pandas\n",
    "- NumPy\n",
    "- Matplotlib\n",
    "- Scikit-Learn\n",
    "- TensorFlow\n",
    "\n",
    "##### Associated with R (Packages)\n",
    "- dplyr\n",
    "- ggplot2\n",
    "- plotly\n",
    "- Lattice\n",
    "- Leaflet"
   ]
  },
  {
   "cell_type": "markdown",
   "id": "00d02ef0",
   "metadata": {},
   "source": [
    "| Data Science Tools |\n",
    "|---|\n",
    "|Apache AirFlow |\n",
    "|Apache Nifi |\n",
    "|KubeFlow |"
   ]
  },
  {
   "cell_type": "markdown",
   "id": "5c28a96c",
   "metadata": {},
   "source": [
    "### Below are a few examples of evaluating arithmetic expressions in Python"
   ]
  },
  {
   "cell_type": "code",
   "execution_count": 3,
   "id": "21130096",
   "metadata": {},
   "outputs": [
    {
     "data": {
      "text/plain": [
       "17"
      ]
     },
     "execution_count": 3,
     "metadata": {},
     "output_type": "execute_result"
    }
   ],
   "source": [
    "# This a simple arithmetic expression to mutiply then add integers\n",
    "(3*4)+5"
   ]
  },
  {
   "cell_type": "code",
   "execution_count": 4,
   "id": "20289b34",
   "metadata": {},
   "outputs": [
    {
     "data": {
      "text/plain": [
       "3.3333333333333335"
      ]
     },
     "execution_count": 4,
     "metadata": {},
     "output_type": "execute_result"
    }
   ],
   "source": [
    "# This will convert 200 minutes to hours by diving by 60\n",
    "200/60"
   ]
  },
  {
   "cell_type": "markdown",
   "id": "8327418c",
   "metadata": {},
   "source": [
    "### Objectives:\n",
    "\n",
    "- Some popular Data Science programming languages\n",
    "- Some commonly used Data Science libraries\n",
    "- Some popular Data Science tools\n",
    "- Basic arithmetic expressions & calculations in Jupyter notebook"
   ]
  },
  {
   "cell_type": "markdown",
   "id": "a62476f9",
   "metadata": {},
   "source": [
    "## Author \n",
    "Jatin Jassi"
   ]
  },
  {
   "cell_type": "code",
   "execution_count": null,
   "id": "e2326807",
   "metadata": {},
   "outputs": [],
   "source": []
  }
 ],
 "metadata": {
  "kernelspec": {
   "display_name": "Python 3 (ipykernel)",
   "language": "python",
   "name": "python3"
  },
  "language_info": {
   "codemirror_mode": {
    "name": "ipython",
    "version": 3
   },
   "file_extension": ".py",
   "mimetype": "text/x-python",
   "name": "python",
   "nbconvert_exporter": "python",
   "pygments_lexer": "ipython3",
   "version": "3.9.12"
  }
 },
 "nbformat": 4,
 "nbformat_minor": 5
}
